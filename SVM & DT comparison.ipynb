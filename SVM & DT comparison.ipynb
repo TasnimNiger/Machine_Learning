{
 "cells": [
  {
   "cell_type": "code",
   "execution_count": 77,
   "metadata": {},
   "outputs": [],
   "source": [
    "#import panda libraries to handle data frame\n",
    "import pandas as pd\n",
    "\n",
    "# import matplotlib to visualize dataset\n",
    "import matplotlib.pyplot as plt\n",
    "\n",
    "#from sklearn import linear regression\n",
    "from sklearn.linear_model import LinearRegression \n",
    "\n",
    "from sklearn.metrics import mean_squared_error, mean_absolute_error\n",
    "\n",
    "# import warnings library to ignor warnings\n",
    "import warnings as wr\n",
    "wr.filterwarnings('ignore')"
   ]
  },
  {
   "cell_type": "code",
   "execution_count": 78,
   "metadata": {},
   "outputs": [],
   "source": [
    "# making data frame from csv file\n",
    "df=pd.read_csv('Dataset1.csv')"
   ]
  },
  {
   "cell_type": "code",
   "execution_count": 79,
   "metadata": {},
   "outputs": [
    {
     "data": {
      "text/html": [
       "<div>\n",
       "<style scoped>\n",
       "    .dataframe tbody tr th:only-of-type {\n",
       "        vertical-align: middle;\n",
       "    }\n",
       "\n",
       "    .dataframe tbody tr th {\n",
       "        vertical-align: top;\n",
       "    }\n",
       "\n",
       "    .dataframe thead th {\n",
       "        text-align: right;\n",
       "    }\n",
       "</style>\n",
       "<table border=\"1\" class=\"dataframe\">\n",
       "  <thead>\n",
       "    <tr style=\"text-align: right;\">\n",
       "      <th></th>\n",
       "      <th>ID</th>\n",
       "      <th>TI1</th>\n",
       "      <th>TI2</th>\n",
       "      <th>TI3</th>\n",
       "      <th>TI4</th>\n",
       "      <th>CWND1</th>\n",
       "      <th>CWND2</th>\n",
       "      <th>CWND3</th>\n",
       "      <th>CWND4</th>\n",
       "      <th>TP1</th>\n",
       "      <th>TP2</th>\n",
       "      <th>TP3</th>\n",
       "      <th>TP4</th>\n",
       "      <th>Output</th>\n",
       "    </tr>\n",
       "  </thead>\n",
       "  <tbody>\n",
       "    <tr>\n",
       "      <th>0</th>\n",
       "      <td>N8Hl1uuP5h</td>\n",
       "      <td>1.106900</td>\n",
       "      <td>1.896857</td>\n",
       "      <td>2.153697</td>\n",
       "      <td>2.543711</td>\n",
       "      <td>0</td>\n",
       "      <td>8192</td>\n",
       "      <td>12288</td>\n",
       "      <td>13312</td>\n",
       "      <td>1.933357</td>\n",
       "      <td>1.649206</td>\n",
       "      <td>1.335429</td>\n",
       "      <td>1.049068</td>\n",
       "      <td>1</td>\n",
       "    </tr>\n",
       "    <tr>\n",
       "      <th>1</th>\n",
       "      <td>eNTqXDBUI7</td>\n",
       "      <td>1.314599</td>\n",
       "      <td>1.711521</td>\n",
       "      <td>2.390772</td>\n",
       "      <td>2.861162</td>\n",
       "      <td>0</td>\n",
       "      <td>10240</td>\n",
       "      <td>13312</td>\n",
       "      <td>13312</td>\n",
       "      <td>1.823952</td>\n",
       "      <td>1.612629</td>\n",
       "      <td>1.353219</td>\n",
       "      <td>1.283225</td>\n",
       "      <td>1</td>\n",
       "    </tr>\n",
       "    <tr>\n",
       "      <th>2</th>\n",
       "      <td>WgTIHJUSMw</td>\n",
       "      <td>1.588305</td>\n",
       "      <td>1.857675</td>\n",
       "      <td>2.060444</td>\n",
       "      <td>2.979751</td>\n",
       "      <td>5120</td>\n",
       "      <td>8192</td>\n",
       "      <td>10240</td>\n",
       "      <td>14336</td>\n",
       "      <td>1.885720</td>\n",
       "      <td>1.613689</td>\n",
       "      <td>1.328536</td>\n",
       "      <td>1.153529</td>\n",
       "      <td>1</td>\n",
       "    </tr>\n",
       "    <tr>\n",
       "      <th>3</th>\n",
       "      <td>JdTS8Z8n7p</td>\n",
       "      <td>1.781265</td>\n",
       "      <td>1.728004</td>\n",
       "      <td>2.766925</td>\n",
       "      <td>2.889295</td>\n",
       "      <td>1024</td>\n",
       "      <td>7168</td>\n",
       "      <td>11264</td>\n",
       "      <td>15360</td>\n",
       "      <td>1.934128</td>\n",
       "      <td>1.636747</td>\n",
       "      <td>1.308417</td>\n",
       "      <td>1.010096</td>\n",
       "      <td>1</td>\n",
       "    </tr>\n",
       "    <tr>\n",
       "      <th>4</th>\n",
       "      <td>VlUx3gK5Mw</td>\n",
       "      <td>1.702065</td>\n",
       "      <td>1.920207</td>\n",
       "      <td>2.439542</td>\n",
       "      <td>2.903092</td>\n",
       "      <td>4096</td>\n",
       "      <td>10240</td>\n",
       "      <td>13312</td>\n",
       "      <td>17408</td>\n",
       "      <td>1.845988</td>\n",
       "      <td>1.624620</td>\n",
       "      <td>1.316087</td>\n",
       "      <td>1.236316</td>\n",
       "      <td>1</td>\n",
       "    </tr>\n",
       "  </tbody>\n",
       "</table>\n",
       "</div>"
      ],
      "text/plain": [
       "           ID       TI1       TI2       TI3       TI4  CWND1  CWND2  CWND3  \\\n",
       "0  N8Hl1uuP5h  1.106900  1.896857  2.153697  2.543711      0   8192  12288   \n",
       "1  eNTqXDBUI7  1.314599  1.711521  2.390772  2.861162      0  10240  13312   \n",
       "2  WgTIHJUSMw  1.588305  1.857675  2.060444  2.979751   5120   8192  10240   \n",
       "3  JdTS8Z8n7p  1.781265  1.728004  2.766925  2.889295   1024   7168  11264   \n",
       "4  VlUx3gK5Mw  1.702065  1.920207  2.439542  2.903092   4096  10240  13312   \n",
       "\n",
       "   CWND4       TP1       TP2       TP3       TP4  Output  \n",
       "0  13312  1.933357  1.649206  1.335429  1.049068       1  \n",
       "1  13312  1.823952  1.612629  1.353219  1.283225       1  \n",
       "2  14336  1.885720  1.613689  1.328536  1.153529       1  \n",
       "3  15360  1.934128  1.636747  1.308417  1.010096       1  \n",
       "4  17408  1.845988  1.624620  1.316087  1.236316       1  "
      ]
     },
     "execution_count": 79,
     "metadata": {},
     "output_type": "execute_result"
    }
   ],
   "source": [
    "# printing the first 5 rows\n",
    "df.head()"
   ]
  },
  {
   "cell_type": "code",
   "execution_count": 80,
   "metadata": {},
   "outputs": [
    {
     "data": {
      "text/plain": [
       "(1000, 14)"
      ]
     },
     "execution_count": 80,
     "metadata": {},
     "output_type": "execute_result"
    }
   ],
   "source": [
    "# printing shape\n",
    "df.shape"
   ]
  },
  {
   "cell_type": "code",
   "execution_count": 81,
   "metadata": {},
   "outputs": [
    {
     "name": "stdout",
     "output_type": "stream",
     "text": [
      "<class 'pandas.core.frame.DataFrame'>\n",
      "RangeIndex: 1000 entries, 0 to 999\n",
      "Data columns (total 14 columns):\n",
      "ID        1000 non-null object\n",
      "TI1       1000 non-null float64\n",
      "TI2       1000 non-null float64\n",
      "TI3       1000 non-null float64\n",
      "TI4       1000 non-null float64\n",
      "CWND1     1000 non-null int64\n",
      "CWND2     1000 non-null int64\n",
      "CWND3     1000 non-null int64\n",
      "CWND4     1000 non-null int64\n",
      "TP1       1000 non-null float64\n",
      "TP2       1000 non-null float64\n",
      "TP3       1000 non-null float64\n",
      "TP4       1000 non-null float64\n",
      "Output    1000 non-null int64\n",
      "dtypes: float64(8), int64(5), object(1)\n",
      "memory usage: 109.5+ KB\n"
     ]
    }
   ],
   "source": [
    "# printinf information about the data frame\n",
    "df.info()"
   ]
  },
  {
   "cell_type": "code",
   "execution_count": 82,
   "metadata": {},
   "outputs": [
    {
     "data": {
      "text/plain": [
       "Index(['ID', 'TI1', 'TI2', 'TI3', 'TI4', 'CWND1', 'CWND2', 'CWND3', 'CWND4',\n",
       "       'TP1', 'TP2', 'TP3', 'TP4', 'Output'],\n",
       "      dtype='object')"
      ]
     },
     "execution_count": 82,
     "metadata": {},
     "output_type": "execute_result"
    }
   ],
   "source": [
    "# print the column names\n",
    "df.columns"
   ]
  },
  {
   "cell_type": "code",
   "execution_count": 83,
   "metadata": {},
   "outputs": [],
   "source": [
    "x = df.drop(\"Output\", axis=1) #Feature Matrix\n",
    "x = df.drop(\"ID\",axis=1)  #drop ID column"
   ]
  },
  {
   "cell_type": "code",
   "execution_count": 84,
   "metadata": {},
   "outputs": [
    {
     "data": {
      "text/html": [
       "<div>\n",
       "<style scoped>\n",
       "    .dataframe tbody tr th:only-of-type {\n",
       "        vertical-align: middle;\n",
       "    }\n",
       "\n",
       "    .dataframe tbody tr th {\n",
       "        vertical-align: top;\n",
       "    }\n",
       "\n",
       "    .dataframe thead th {\n",
       "        text-align: right;\n",
       "    }\n",
       "</style>\n",
       "<table border=\"1\" class=\"dataframe\">\n",
       "  <thead>\n",
       "    <tr style=\"text-align: right;\">\n",
       "      <th></th>\n",
       "      <th>TI1</th>\n",
       "      <th>TI2</th>\n",
       "      <th>TI3</th>\n",
       "      <th>TI4</th>\n",
       "      <th>CWND1</th>\n",
       "      <th>CWND2</th>\n",
       "      <th>CWND3</th>\n",
       "      <th>CWND4</th>\n",
       "      <th>TP1</th>\n",
       "      <th>TP2</th>\n",
       "      <th>TP3</th>\n",
       "      <th>TP4</th>\n",
       "      <th>Output</th>\n",
       "    </tr>\n",
       "  </thead>\n",
       "  <tbody>\n",
       "    <tr>\n",
       "      <th>0</th>\n",
       "      <td>1.106900</td>\n",
       "      <td>1.896857</td>\n",
       "      <td>2.153697</td>\n",
       "      <td>2.543711</td>\n",
       "      <td>0</td>\n",
       "      <td>8192</td>\n",
       "      <td>12288</td>\n",
       "      <td>13312</td>\n",
       "      <td>1.933357</td>\n",
       "      <td>1.649206</td>\n",
       "      <td>1.335429</td>\n",
       "      <td>1.049068</td>\n",
       "      <td>1</td>\n",
       "    </tr>\n",
       "    <tr>\n",
       "      <th>1</th>\n",
       "      <td>1.314599</td>\n",
       "      <td>1.711521</td>\n",
       "      <td>2.390772</td>\n",
       "      <td>2.861162</td>\n",
       "      <td>0</td>\n",
       "      <td>10240</td>\n",
       "      <td>13312</td>\n",
       "      <td>13312</td>\n",
       "      <td>1.823952</td>\n",
       "      <td>1.612629</td>\n",
       "      <td>1.353219</td>\n",
       "      <td>1.283225</td>\n",
       "      <td>1</td>\n",
       "    </tr>\n",
       "    <tr>\n",
       "      <th>2</th>\n",
       "      <td>1.588305</td>\n",
       "      <td>1.857675</td>\n",
       "      <td>2.060444</td>\n",
       "      <td>2.979751</td>\n",
       "      <td>5120</td>\n",
       "      <td>8192</td>\n",
       "      <td>10240</td>\n",
       "      <td>14336</td>\n",
       "      <td>1.885720</td>\n",
       "      <td>1.613689</td>\n",
       "      <td>1.328536</td>\n",
       "      <td>1.153529</td>\n",
       "      <td>1</td>\n",
       "    </tr>\n",
       "    <tr>\n",
       "      <th>3</th>\n",
       "      <td>1.781265</td>\n",
       "      <td>1.728004</td>\n",
       "      <td>2.766925</td>\n",
       "      <td>2.889295</td>\n",
       "      <td>1024</td>\n",
       "      <td>7168</td>\n",
       "      <td>11264</td>\n",
       "      <td>15360</td>\n",
       "      <td>1.934128</td>\n",
       "      <td>1.636747</td>\n",
       "      <td>1.308417</td>\n",
       "      <td>1.010096</td>\n",
       "      <td>1</td>\n",
       "    </tr>\n",
       "    <tr>\n",
       "      <th>4</th>\n",
       "      <td>1.702065</td>\n",
       "      <td>1.920207</td>\n",
       "      <td>2.439542</td>\n",
       "      <td>2.903092</td>\n",
       "      <td>4096</td>\n",
       "      <td>10240</td>\n",
       "      <td>13312</td>\n",
       "      <td>17408</td>\n",
       "      <td>1.845988</td>\n",
       "      <td>1.624620</td>\n",
       "      <td>1.316087</td>\n",
       "      <td>1.236316</td>\n",
       "      <td>1</td>\n",
       "    </tr>\n",
       "  </tbody>\n",
       "</table>\n",
       "</div>"
      ],
      "text/plain": [
       "        TI1       TI2       TI3       TI4  CWND1  CWND2  CWND3  CWND4  \\\n",
       "0  1.106900  1.896857  2.153697  2.543711      0   8192  12288  13312   \n",
       "1  1.314599  1.711521  2.390772  2.861162      0  10240  13312  13312   \n",
       "2  1.588305  1.857675  2.060444  2.979751   5120   8192  10240  14336   \n",
       "3  1.781265  1.728004  2.766925  2.889295   1024   7168  11264  15360   \n",
       "4  1.702065  1.920207  2.439542  2.903092   4096  10240  13312  17408   \n",
       "\n",
       "        TP1       TP2       TP3       TP4  Output  \n",
       "0  1.933357  1.649206  1.335429  1.049068       1  \n",
       "1  1.823952  1.612629  1.353219  1.283225       1  \n",
       "2  1.885720  1.613689  1.328536  1.153529       1  \n",
       "3  1.934128  1.636747  1.308417  1.010096       1  \n",
       "4  1.845988  1.624620  1.316087  1.236316       1  "
      ]
     },
     "execution_count": 84,
     "metadata": {},
     "output_type": "execute_result"
    }
   ],
   "source": [
    "x.head()"
   ]
  },
  {
   "cell_type": "code",
   "execution_count": 85,
   "metadata": {},
   "outputs": [],
   "source": [
    "y=df[\"Output\"] #Target Variable"
   ]
  },
  {
   "cell_type": "code",
   "execution_count": 86,
   "metadata": {},
   "outputs": [
    {
     "data": {
      "text/plain": [
       "0    1\n",
       "1    1\n",
       "2    1\n",
       "3    1\n",
       "4    1\n",
       "Name: Output, dtype: int64"
      ]
     },
     "execution_count": 86,
     "metadata": {},
     "output_type": "execute_result"
    }
   ],
   "source": [
    "y.head()"
   ]
  },
  {
   "cell_type": "code",
   "execution_count": 87,
   "metadata": {},
   "outputs": [],
   "source": [
    "from sklearn.model_selection import train_test_split\n",
    "\n",
    "X_train, X_test, y_train, y_test = train_test_split(x, y, train_size=0.7, test_size=0.3,random_state=109)"
   ]
  },
  {
   "cell_type": "code",
   "execution_count": 88,
   "metadata": {},
   "outputs": [
    {
     "data": {
      "text/plain": [
       "(700, 13)"
      ]
     },
     "execution_count": 88,
     "metadata": {},
     "output_type": "execute_result"
    }
   ],
   "source": [
    "X_train.shape"
   ]
  },
  {
   "cell_type": "code",
   "execution_count": 89,
   "metadata": {},
   "outputs": [
    {
     "data": {
      "text/plain": [
       "(300, 13)"
      ]
     },
     "execution_count": 89,
     "metadata": {},
     "output_type": "execute_result"
    }
   ],
   "source": [
    "X_test.shape"
   ]
  },
  {
   "cell_type": "code",
   "execution_count": 90,
   "metadata": {},
   "outputs": [
    {
     "data": {
      "text/plain": [
       "(700,)"
      ]
     },
     "execution_count": 90,
     "metadata": {},
     "output_type": "execute_result"
    }
   ],
   "source": [
    "y_train.shape"
   ]
  },
  {
   "cell_type": "code",
   "execution_count": 91,
   "metadata": {},
   "outputs": [
    {
     "data": {
      "text/plain": [
       "(300,)"
      ]
     },
     "execution_count": 91,
     "metadata": {},
     "output_type": "execute_result"
    }
   ],
   "source": [
    "y_test.shape"
   ]
  },
  {
   "cell_type": "code",
   "execution_count": 92,
   "metadata": {},
   "outputs": [],
   "source": [
    "from sklearn.tree import DecisionTreeClassifier\n",
    "clf = DecisionTreeClassifier(random_state=0)"
   ]
  },
  {
   "cell_type": "code",
   "execution_count": 93,
   "metadata": {},
   "outputs": [
    {
     "data": {
      "text/plain": [
       "DecisionTreeClassifier(class_weight=None, criterion='gini', max_depth=None,\n",
       "            max_features=None, max_leaf_nodes=None,\n",
       "            min_impurity_decrease=0.0, min_impurity_split=None,\n",
       "            min_samples_leaf=1, min_samples_split=2,\n",
       "            min_weight_fraction_leaf=0.0, presort=False, random_state=0,\n",
       "            splitter='best')"
      ]
     },
     "execution_count": 93,
     "metadata": {},
     "output_type": "execute_result"
    }
   ],
   "source": [
    "# train the model\n",
    "clf.fit(X_train,y_train)"
   ]
  },
  {
   "cell_type": "code",
   "execution_count": 94,
   "metadata": {},
   "outputs": [],
   "source": [
    "y_pred = clf.predict(X_test)"
   ]
  },
  {
   "cell_type": "code",
   "execution_count": 95,
   "metadata": {},
   "outputs": [
    {
     "data": {
      "text/plain": [
       "array([2, 4, 4, 4, 1, 4, 3, 2, 3, 2, 2, 4, 3, 2, 1, 2, 3, 1, 1, 1, 2, 2,\n",
       "       2, 2, 4, 2, 1, 2, 4, 4, 3, 2, 4, 3, 1, 2, 3, 4, 2, 3, 2, 1, 4, 3,\n",
       "       3, 4, 2, 1, 3, 4, 3, 2, 1, 1, 4, 3, 1, 3, 2, 4, 4, 4, 4, 1, 2, 1,\n",
       "       2, 2, 4, 4, 2, 1, 4, 3, 2, 3, 3, 4, 3, 3, 4, 4, 4, 3, 3, 2, 3, 1,\n",
       "       2, 2, 4, 3, 2, 1, 4, 3, 3, 3, 4, 4, 1, 4, 3, 4, 2, 2, 2, 4, 2, 4,\n",
       "       3, 2, 3, 4, 2, 4, 4, 3, 1, 3, 3, 4, 3, 4, 1, 1, 4, 4, 2, 4, 4, 1,\n",
       "       1, 3, 3, 4, 2, 3, 1, 3, 3, 1, 3, 4, 3, 4, 1, 3, 3, 3, 4, 4, 3, 2,\n",
       "       2, 2, 3, 2, 1, 4, 3, 3, 3, 4, 1, 2, 4, 1, 3, 3, 4, 4, 2, 4, 4, 2,\n",
       "       4, 1, 1, 3, 3, 4, 4, 4, 3, 4, 3, 4, 3, 4, 3, 2, 3, 4, 4, 2, 4, 4,\n",
       "       3, 3, 2, 2, 3, 1, 4, 2, 2, 2, 4, 3, 2, 3, 3, 4, 2, 4, 3, 2, 3, 3,\n",
       "       4, 3, 2, 3, 3, 4, 2, 3, 4, 2, 2, 2, 1, 1, 3, 2, 3, 1, 2, 4, 4, 3,\n",
       "       1, 2, 4, 3, 4, 4, 1, 4, 2, 4, 2, 1, 4, 1, 4, 1, 2, 1, 4, 1, 1, 4,\n",
       "       2, 1, 2, 2, 4, 3, 2, 3, 4, 4, 4, 4, 3, 2, 3, 2, 3, 1, 3, 1, 3, 2,\n",
       "       3, 3, 3, 3, 4, 3, 1, 2, 2, 4, 4, 1, 4, 1], dtype=int64)"
      ]
     },
     "execution_count": 95,
     "metadata": {},
     "output_type": "execute_result"
    }
   ],
   "source": [
    "y_pred"
   ]
  },
  {
   "cell_type": "code",
   "execution_count": 96,
   "metadata": {},
   "outputs": [],
   "source": [
    "from sklearn.metrics import precision_score"
   ]
  },
  {
   "cell_type": "code",
   "execution_count": 107,
   "metadata": {},
   "outputs": [
    {
     "data": {
      "text/plain": [
       "2"
      ]
     },
     "execution_count": 107,
     "metadata": {},
     "output_type": "execute_result"
    }
   ],
   "source": [
    "running_secs\n",
    "\n",
    "# precision score using decision tree\n",
    "precision_score(y_test, y_pred, average='micro') "
   ]
  },
  {
   "cell_type": "code",
   "execution_count": 103,
   "metadata": {},
   "outputs": [],
   "source": [
    "#Create a svm Classifier\n",
    "clf_svm = svm.SVC(kernel='linear') # Linear Kernel\n",
    "\n",
    "#Train the model using the training sets\n",
    "clf_svm.fit(X_train, y_train)\n",
    "\n",
    "#Predict the response for test dataset\n",
    "y_pred = clf_svm.predict(X_test)"
   ]
  },
  {
   "cell_type": "code",
   "execution_count": 104,
   "metadata": {},
   "outputs": [
    {
     "data": {
      "text/plain": [
       "0.9766666666666667"
      ]
     },
     "execution_count": 104,
     "metadata": {},
     "output_type": "execute_result"
    }
   ],
   "source": [
    "# precision score using svm\n",
    "precision_score(y_test, y_pred, average='micro')"
   ]
  }
 ],
 "metadata": {
  "kernelspec": {
   "display_name": "Python 3",
   "language": "python",
   "name": "python3"
  },
  "language_info": {
   "codemirror_mode": {
    "name": "ipython",
    "version": 3
   },
   "file_extension": ".py",
   "mimetype": "text/x-python",
   "name": "python",
   "nbconvert_exporter": "python",
   "pygments_lexer": "ipython3",
   "version": "3.7.3"
  }
 },
 "nbformat": 4,
 "nbformat_minor": 2
}
